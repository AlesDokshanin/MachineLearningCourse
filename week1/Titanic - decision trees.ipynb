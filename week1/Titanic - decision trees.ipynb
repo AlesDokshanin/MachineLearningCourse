{
 "metadata": {
  "name": ""
 },
 "nbformat": 3,
 "nbformat_minor": 0,
 "worksheets": [
  {
   "cells": [
    {
     "cell_type": "code",
     "collapsed": false,
     "input": [
      "import pandas\n",
      "import numpy as np, scipy as sc\n",
      "from sklearn.tree import DecisionTreeClassifier\n",
      "\n",
      "X = pandas.read_csv('titanic.csv', index_col='PassengerId')"
     ],
     "language": "python",
     "metadata": {},
     "outputs": [],
     "prompt_number": 61
    },
    {
     "cell_type": "code",
     "collapsed": false,
     "input": [
      "data.head()\n"
     ],
     "language": "python",
     "metadata": {},
     "outputs": [
      {
       "html": [
        "<div style=\"max-height:1000px;max-width:1500px;overflow:auto;\">\n",
        "<table border=\"1\" class=\"dataframe\">\n",
        "  <thead>\n",
        "    <tr style=\"text-align: right;\">\n",
        "      <th></th>\n",
        "      <th>Sex</th>\n",
        "      <th>Pclass</th>\n",
        "      <th>Fare</th>\n",
        "      <th>Age</th>\n",
        "    </tr>\n",
        "    <tr>\n",
        "      <th>PassengerId</th>\n",
        "      <th></th>\n",
        "      <th></th>\n",
        "      <th></th>\n",
        "      <th></th>\n",
        "    </tr>\n",
        "  </thead>\n",
        "  <tbody>\n",
        "    <tr>\n",
        "      <th>1</th>\n",
        "      <td> 0</td>\n",
        "      <td> 3</td>\n",
        "      <td>  7.2500</td>\n",
        "      <td> 22</td>\n",
        "    </tr>\n",
        "    <tr>\n",
        "      <th>2</th>\n",
        "      <td> 1</td>\n",
        "      <td> 1</td>\n",
        "      <td> 71.2833</td>\n",
        "      <td> 38</td>\n",
        "    </tr>\n",
        "    <tr>\n",
        "      <th>3</th>\n",
        "      <td> 1</td>\n",
        "      <td> 3</td>\n",
        "      <td>  7.9250</td>\n",
        "      <td> 26</td>\n",
        "    </tr>\n",
        "    <tr>\n",
        "      <th>4</th>\n",
        "      <td> 1</td>\n",
        "      <td> 1</td>\n",
        "      <td> 53.1000</td>\n",
        "      <td> 35</td>\n",
        "    </tr>\n",
        "    <tr>\n",
        "      <th>5</th>\n",
        "      <td> 0</td>\n",
        "      <td> 3</td>\n",
        "      <td>  8.0500</td>\n",
        "      <td> 35</td>\n",
        "    </tr>\n",
        "  </tbody>\n",
        "</table>\n",
        "<p>5 rows \u00d7 4 columns</p>\n",
        "</div>"
       ],
       "metadata": {},
       "output_type": "pyout",
       "prompt_number": 62,
       "text": [
        "             Sex  Pclass     Fare  Age\n",
        "PassengerId                           \n",
        "1              0       3   7.2500   22\n",
        "2              1       1  71.2833   38\n",
        "3              1       3   7.9250   26\n",
        "4              1       1  53.1000   35\n",
        "5              0       3   8.0500   35\n",
        "\n",
        "[5 rows x 4 columns]"
       ]
      }
     ],
     "prompt_number": 62
    },
    {
     "cell_type": "code",
     "collapsed": false,
     "input": [
      "# Extracting only the data we need\n",
      "columns = ['Sex', 'Pclass', 'Fare', 'Age']\n",
      "X = X.dropna(subset=columns)\n",
      "\n",
      "data = X[columns]\n",
      "solution = X['Survived']\n",
      "\n",
      "# Converting 'Sex' column to numbers\n",
      "def sex_to_number(x):\n",
      "    if x == 'male':\n",
      "        return 0\n",
      "    elif x == 'female':\n",
      "        return 1\n",
      "\n",
      "data['Sex'] = data['Sex'].map(sex_to_number)\n",
      "\n",
      "# Training\n",
      "clf = DecisionTreeClassifier(random_state=241)\n",
      "clf.fit(data, solution)\n",
      "imp = clf.feature_importances_\n",
      "res = sorted(zip(columns, imp), key=lambda x: x[1], reverse=True)\n",
      "for feature, importance in res:\n",
      "    print '{imp} --- {feature}'.format(imp=importance, feature=feature)\n",
      "    \n",
      "print data.head()\n"
     ],
     "language": "python",
     "metadata": {},
     "outputs": [
      {
       "output_type": "stream",
       "stream": "stdout",
       "text": [
        "0.300512210958 --- Sex\n",
        "0.295640661603 --- Fare\n",
        "0.259334143429 --- Age\n",
        "0.14451298401 --- Pclass\n",
        "             Sex  Pclass     Fare  Age\n",
        "PassengerId                           \n",
        "1              0       3   7.2500   22\n",
        "2              1       1  71.2833   38\n",
        "3              1       3   7.9250   26\n",
        "4              1       1  53.1000   35\n",
        "5              0       3   8.0500   35\n",
        "\n",
        "[5 rows x 4 columns]\n"
       ]
      }
     ],
     "prompt_number": 71
    },
    {
     "cell_type": "code",
     "collapsed": false,
     "input": [],
     "language": "python",
     "metadata": {},
     "outputs": []
    },
    {
     "cell_type": "code",
     "collapsed": false,
     "input": [],
     "language": "python",
     "metadata": {},
     "outputs": []
    }
   ],
   "metadata": {}
  }
 ]
}