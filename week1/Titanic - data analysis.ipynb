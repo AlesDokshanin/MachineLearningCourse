{
 "metadata": {
  "name": ""
 },
 "nbformat": 3,
 "nbformat_minor": 0,
 "worksheets": [
  {
   "cells": [
    {
     "cell_type": "code",
     "collapsed": false,
     "input": [
      "import pandas\n",
      "import numpy as np, scipy as sc\n",
      "import re\n",
      "\n",
      "from scipy.stats.stats import pearsonr\n",
      "from collections import Counter\n",
      "\n",
      "data = pandas.read_csv('titanic.csv', index_col='PassengerId')"
     ],
     "language": "python",
     "metadata": {},
     "outputs": [],
     "prompt_number": 51
    },
    {
     "cell_type": "code",
     "collapsed": false,
     "input": [
      "data.head()\n"
     ],
     "language": "python",
     "metadata": {},
     "outputs": [
      {
       "html": [
        "<div style=\"max-height:1000px;max-width:1500px;overflow:auto;\">\n",
        "<table border=\"1\" class=\"dataframe\">\n",
        "  <thead>\n",
        "    <tr style=\"text-align: right;\">\n",
        "      <th></th>\n",
        "      <th>Survived</th>\n",
        "      <th>Pclass</th>\n",
        "      <th>Name</th>\n",
        "      <th>Sex</th>\n",
        "      <th>Age</th>\n",
        "      <th>SibSp</th>\n",
        "      <th>Parch</th>\n",
        "      <th>Ticket</th>\n",
        "      <th>Fare</th>\n",
        "      <th>Cabin</th>\n",
        "      <th>Embarked</th>\n",
        "    </tr>\n",
        "    <tr>\n",
        "      <th>PassengerId</th>\n",
        "      <th></th>\n",
        "      <th></th>\n",
        "      <th></th>\n",
        "      <th></th>\n",
        "      <th></th>\n",
        "      <th></th>\n",
        "      <th></th>\n",
        "      <th></th>\n",
        "      <th></th>\n",
        "      <th></th>\n",
        "      <th></th>\n",
        "    </tr>\n",
        "  </thead>\n",
        "  <tbody>\n",
        "    <tr>\n",
        "      <th>1</th>\n",
        "      <td> 0</td>\n",
        "      <td> 3</td>\n",
        "      <td>                           Braund, Mr. Owen Harris</td>\n",
        "      <td>   male</td>\n",
        "      <td> 22</td>\n",
        "      <td> 1</td>\n",
        "      <td> 0</td>\n",
        "      <td>        A/5 21171</td>\n",
        "      <td>  7.2500</td>\n",
        "      <td>  NaN</td>\n",
        "      <td> S</td>\n",
        "    </tr>\n",
        "    <tr>\n",
        "      <th>2</th>\n",
        "      <td> 1</td>\n",
        "      <td> 1</td>\n",
        "      <td> Cumings, Mrs. John Bradley (Florence Briggs Th...</td>\n",
        "      <td> female</td>\n",
        "      <td> 38</td>\n",
        "      <td> 1</td>\n",
        "      <td> 0</td>\n",
        "      <td>         PC 17599</td>\n",
        "      <td> 71.2833</td>\n",
        "      <td>  C85</td>\n",
        "      <td> C</td>\n",
        "    </tr>\n",
        "    <tr>\n",
        "      <th>3</th>\n",
        "      <td> 1</td>\n",
        "      <td> 3</td>\n",
        "      <td>                            Heikkinen, Miss. Laina</td>\n",
        "      <td> female</td>\n",
        "      <td> 26</td>\n",
        "      <td> 0</td>\n",
        "      <td> 0</td>\n",
        "      <td> STON/O2. 3101282</td>\n",
        "      <td>  7.9250</td>\n",
        "      <td>  NaN</td>\n",
        "      <td> S</td>\n",
        "    </tr>\n",
        "    <tr>\n",
        "      <th>4</th>\n",
        "      <td> 1</td>\n",
        "      <td> 1</td>\n",
        "      <td>      Futrelle, Mrs. Jacques Heath (Lily May Peel)</td>\n",
        "      <td> female</td>\n",
        "      <td> 35</td>\n",
        "      <td> 1</td>\n",
        "      <td> 0</td>\n",
        "      <td>           113803</td>\n",
        "      <td> 53.1000</td>\n",
        "      <td> C123</td>\n",
        "      <td> S</td>\n",
        "    </tr>\n",
        "    <tr>\n",
        "      <th>5</th>\n",
        "      <td> 0</td>\n",
        "      <td> 3</td>\n",
        "      <td>                          Allen, Mr. William Henry</td>\n",
        "      <td>   male</td>\n",
        "      <td> 35</td>\n",
        "      <td> 0</td>\n",
        "      <td> 0</td>\n",
        "      <td>           373450</td>\n",
        "      <td>  8.0500</td>\n",
        "      <td>  NaN</td>\n",
        "      <td> S</td>\n",
        "    </tr>\n",
        "  </tbody>\n",
        "</table>\n",
        "<p>5 rows \u00d7 11 columns</p>\n",
        "</div>"
       ],
       "metadata": {},
       "output_type": "pyout",
       "prompt_number": 52,
       "text": [
        "             Survived  Pclass  \\\n",
        "PassengerId                     \n",
        "1                   0       3   \n",
        "2                   1       1   \n",
        "3                   1       3   \n",
        "4                   1       1   \n",
        "5                   0       3   \n",
        "\n",
        "                                                          Name     Sex  Age  \\\n",
        "PassengerId                                                                   \n",
        "1                                      Braund, Mr. Owen Harris    male   22   \n",
        "2            Cumings, Mrs. John Bradley (Florence Briggs Th...  female   38   \n",
        "3                                       Heikkinen, Miss. Laina  female   26   \n",
        "4                 Futrelle, Mrs. Jacques Heath (Lily May Peel)  female   35   \n",
        "5                                     Allen, Mr. William Henry    male   35   \n",
        "\n",
        "             SibSp  Parch            Ticket     Fare Cabin Embarked  \n",
        "PassengerId                                                          \n",
        "1                1      0         A/5 21171   7.2500   NaN        S  \n",
        "2                1      0          PC 17599  71.2833   C85        C  \n",
        "3                0      0  STON/O2. 3101282   7.9250   NaN        S  \n",
        "4                1      0            113803  53.1000  C123        S  \n",
        "5                0      0            373450   8.0500   NaN        S  \n",
        "\n",
        "[5 rows x 11 columns]"
       ]
      }
     ],
     "prompt_number": 52
    },
    {
     "cell_type": "code",
     "collapsed": false,
     "input": [
      "# 1\n",
      "data['Sex'].value_counts()"
     ],
     "language": "python",
     "metadata": {},
     "outputs": [
      {
       "metadata": {},
       "output_type": "pyout",
       "prompt_number": 53,
       "text": [
        "male      577\n",
        "female    314\n",
        "dtype: int64"
       ]
      }
     ],
     "prompt_number": 53
    },
    {
     "cell_type": "code",
     "collapsed": false,
     "input": [
      "# 2\n",
      "\n",
      "percent_survived = data['Survived'].value_counts(normalize=True)[1] * 100\n",
      "print percent_survived"
     ],
     "language": "python",
     "metadata": {},
     "outputs": [
      {
       "output_type": "stream",
       "stream": "stdout",
       "text": [
        "38.3838383838\n"
       ]
      }
     ],
     "prompt_number": 54
    },
    {
     "cell_type": "code",
     "collapsed": false,
     "input": [
      "# 3\n",
      "first_class_percent = data['Pclass'].value_counts(normalize=True)[1] * 100\n",
      "print first_class_percent"
     ],
     "language": "python",
     "metadata": {},
     "outputs": [
      {
       "output_type": "stream",
       "stream": "stdout",
       "text": [
        "24.2424242424\n"
       ]
      }
     ],
     "prompt_number": 55
    },
    {
     "cell_type": "code",
     "collapsed": false,
     "input": [
      "# 4\n",
      "age_vector = data['Age']\n",
      "average_age = age_vector.mean()\n",
      "age_median = age_vector.median()\n",
      "\n",
      "print \"Avg: {avg}\\nMedian: {median}\".format(avg=average_age, median=age_median)"
     ],
     "language": "python",
     "metadata": {},
     "outputs": [
      {
       "output_type": "stream",
       "stream": "stdout",
       "text": [
        "Avg: 29.6991176471\n",
        "Median: 28.0\n"
       ]
      }
     ],
     "prompt_number": 56
    },
    {
     "cell_type": "code",
     "collapsed": false,
     "input": [
      "# 5\n",
      "first = data['SibSp']\n",
      "second = data['Parch']\n",
      "print first.corr(second)"
     ],
     "language": "python",
     "metadata": {},
     "outputs": [
      {
       "output_type": "stream",
       "stream": "stdout",
       "text": [
        "0.41483769862\n"
       ]
      }
     ],
     "prompt_number": 57
    },
    {
     "cell_type": "code",
     "collapsed": false,
     "input": [
      "# 6\n",
      "\n",
      "brackets_re = re.compile('\\((.*)\\)')\n",
      "titul_re = re.compile('(Miss.|Mrs.|Ms.)(?P<name>.*)')\n",
      "\n",
      "\n",
      "women_mask= data['Sex'] == 'female'\n",
      "women_full_names = data[women_mask]['Name']\n",
      "\n",
      "names = np.empty(shape=0, dtype=str)\n",
      "\n",
      "def split_full_name(full_name):\n",
      "    return full_name.split()\n",
      "\n",
      "for full_name in women_full_names:\n",
      "    value = full_name.replace('\"', '')\n",
      "    results = brackets_re.findall(value)\n",
      "    to_append = None\n",
      "    if results:\n",
      "        to_append = results[0]\n",
      "\n",
      "    else:\n",
      "        match = titul_re.search(value)\n",
      "        if match:\n",
      "            to_append = match.groupdict()['name']\n",
      "\n",
      "    if to_append is not None:\n",
      "        words = to_append.split()\n",
      "        names = np.hstack((names, words,))\n",
      "    else:\n",
      "        print 'Unexpected shit is happening with name `{}`'.format(full_name)\n",
      "\n",
      "name_to_freq = Counter(names).items()\n",
      "sorted_output = sorted(name_to_freq, key=lambda x: x[1], reverse=True)\n",
      "for n, name in sorted_output[:10]:\n",
      "    print '{n} --- {name}'.format(n=n, name=name)\n"
     ],
     "language": "python",
     "metadata": {},
     "outputs": [
      {
       "output_type": "stream",
       "stream": "stdout",
       "text": [
        "Unexpected shit is happening with name `Aubart, Mme. Leontine Pauline`\n",
        "Unexpected shit is happening with name `Sagesser, Mlle. Emma`\n",
        "Mary --- 20\n",
        "Anna --- 17\n",
        "Elizabeth --- 14\n",
        "Margaret --- 12\n",
        "Maria --- 10\n",
        "Annie --- 8\n",
        "Helen --- 7\n",
        "Alice --- 7\n",
        "Edith --- 6\n",
        "Kate --- 6\n"
       ]
      }
     ],
     "prompt_number": 58
    },
    {
     "cell_type": "code",
     "collapsed": false,
     "input": [],
     "language": "python",
     "metadata": {},
     "outputs": [],
     "prompt_number": 58
    },
    {
     "cell_type": "code",
     "collapsed": false,
     "input": [],
     "language": "python",
     "metadata": {},
     "outputs": [],
     "prompt_number": 58
    }
   ],
   "metadata": {}
  }
 ]
}