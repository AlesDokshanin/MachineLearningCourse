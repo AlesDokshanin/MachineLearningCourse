{
 "cells": [
  {
   "cell_type": "code",
   "execution_count": 303,
   "metadata": {
    "collapsed": false
   },
   "outputs": [],
   "source": [
    "%matplotlib inline\n",
    "\n",
    "import matplotlib\n",
    "import pandas\n",
    "import numpy as np\n",
    "from matplotlib import pyplot as plt\n",
    "\n",
    "data = pandas.read_csv('data-logistic.csv', header=None).as_matrix()\n",
    "X = data[:, 1:]\n",
    "y = data[:, :1]"
   ]
  },
  {
   "cell_type": "code",
   "execution_count": 304,
   "metadata": {
    "collapsed": false,
    "scrolled": false
   },
   "outputs": [
    {
     "data": {
      "image/png": "[encoded data removed]",
      "text/plain": [
       "<matplotlib.figure.Figure at 0x7f0980592990>"
      ]
     },
     "metadata": {},
     "output_type": "display_data"
    }
   ],
   "source": [
    "a = X[data[:, 0] < 0]\n",
    "b = X[data[:, 0] > 0]\n",
    "\n",
    "plt.plot(a[:, :1], a[:, 1:], 'ro', b[:, :1], b[:, 1:], 'bo')\n",
    "plt.show()"
   ]
  },
  {
   "cell_type": "code",
   "execution_count": 305,
   "metadata": {
    "collapsed": false
   },
   "outputs": [],
   "source": [
    "from math import exp\n",
    "\n",
    "def gradient_descent(X, y, k=0.1, eps=1e-5, C=10.0, start_w=None, max_iters=10000, regularization=False):\n",
    "    l, w_length = X.shape\n",
    "    w = start_w or np.empty(w_length)\n",
    "\n",
    "    iter_n = 0\n",
    "    stop_by_iter_number = False\n",
    "    stop_by_step_length = False\n",
    "    \n",
    "    while not any((stop_by_iter_number, stop_by_step_length,)):\n",
    "        w_new = np.array(w)\n",
    "        \n",
    "        for j in xrange(w_length):\n",
    "            sum_ = 0.0\n",
    "            for i in xrange(l):\n",
    "                denom = 1 + exp(-1.0 * y[i] * sum(np.multiply(w, X[i])))\n",
    "                val = y[i] * X[i][j] * (1.0 - (1.0 / denom))\n",
    "                sum_ += val\n",
    "            \n",
    "            w_new[j] += (k / l) * sum_\n",
    "            \n",
    "            if regularization:\n",
    "                w_new[j] -= k * C * w[j]\n",
    "                \n",
    "        iter_n += 1\n",
    "        stop_by_iter_number = iter_n >= max_iters\n",
    "        distance = np.linalg.norm(w_new - w, ord=2)\n",
    "        stop_by_step_length = distance < eps\n",
    "        w = w_new\n",
    "        \n",
    "    if stop_by_iter_number:\n",
    "        print 'Stopped because of iterations count'\n",
    "    elif stop_by_step_length:\n",
    "        print 'Stopped because of EPS step reached. Iters: {}'.format(iter_n)\n",
    "    else:\n",
    "        print 'Stopped because fuck you'\n",
    "        \n",
    "    return w"
   ]
  },
  {
   "cell_type": "code",
   "execution_count": 310,
   "metadata": {
    "collapsed": false,
    "scrolled": false
   },
   "outputs": [
    {
     "name": "stdout",
     "output_type": "stream",
     "text": [
      "Stopped because of EPS step reached. Iters: 244\n",
      "Stopped because of EPS step reached. Iters: 9\n",
      "0.927 0.936\n"
     ]
    }
   ],
   "source": [
    "w_nonreg = gradient_descent(X, y, regularization=False)\n",
    "w_reg = gradient_descent(X, y, regularization=True)\n",
    "\n",
    "def get_score(x, w):\n",
    "    denom = 1 + exp(-1.0 * sum(np.multiply(w, x)))\n",
    "    return 1.0 / denom\n",
    "\n",
    "scores_nonreg = [get_score(x, w_nonreg) for x in X]\n",
    "scores_reg = [get_score(x, w_reg) for x in X]\n",
    "\n",
    "total_nonreg = roc_auc_score(y, scores_nonreg)\n",
    "total_reg = roc_auc_score(y, scores_reg)\n",
    "\n",
    "assignment_data = '{nonreg:.3f} {reg:.3f}'.format(nonreg=total_nonreg, reg=total_reg)\n",
    "print assignment_data                                    \n",
    "with open('assignments/3_1.txt', 'w') as f:\n",
    "    f.write(assignment_data)"
   ]
  },
  {
   "cell_type": "code",
   "execution_count": null,
   "metadata": {
    "collapsed": true
   },
   "outputs": [],
   "source": []
  }
 ],
 "metadata": {
  "kernelspec": {
   "display_name": "Python 2",
   "language": "python",
   "name": "python2"
  },
  "language_info": {
   "codemirror_mode": {
    "name": "ipython",
    "version": 2
   },
   "file_extension": ".py",
   "mimetype": "text/x-python",
   "name": "python",
   "nbconvert_exporter": "python",
   "pygments_lexer": "ipython2",
   "version": "2.7.6"
  }
 },
 "nbformat": 4,
 "nbformat_minor": 0
}
