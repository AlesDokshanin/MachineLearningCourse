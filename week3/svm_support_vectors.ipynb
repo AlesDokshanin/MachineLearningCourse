{
 "cells": [
  {
   "cell_type": "code",
   "execution_count": 22,
   "metadata": {
    "collapsed": false
   },
   "outputs": [],
   "source": [
    "%matplotlib inline\n",
    "\n",
    "import matplotlib\n",
    "import pandas\n",
    "import numpy as np\n",
    "from sklearn.svm import SVC\n",
    "\n",
    "data = pandas.read_csv('svm-data.csv', header=None)\n",
    "y = np.ravel(data[[0]])\n",
    "X = data[[1, 2]]"
   ]
  },
  {
   "cell_type": "code",
   "execution_count": 23,
   "metadata": {
    "collapsed": false
   },
   "outputs": [
    {
     "name": "stdout",
     "output_type": "stream",
     "text": [
      "[3 4 9]\n"
     ]
    }
   ],
   "source": [
    "clf = SVC(kernel='linear', C=100000, random_state=241)\n",
    "clf.fit(X, y)\n",
    "print clf.support_"
   ]
  },
  {
   "cell_type": "code",
   "execution_count": 25,
   "metadata": {
    "collapsed": false
   },
   "outputs": [
    {
     "name": "stdout",
     "output_type": "stream",
     "text": [
      "   0     1     2\n",
      "0  0  0.70  0.29\n",
      "1  1  0.23  0.55\n",
      "2  0  0.72  0.42\n",
      "3  0  0.98  0.68\n",
      "4  0  0.48  0.39\n",
      "5  1  0.34  0.73\n",
      "6  0  0.44  0.06\n",
      "7  1  0.40  0.74\n",
      "8  0  0.18  0.18\n",
      "9  1  0.53  0.53\n"
     ]
    }
   ],
   "source": [
    "print data"
   ]
  },
  {
   "cell_type": "code",
   "execution_count": null,
   "metadata": {
    "collapsed": true
   },
   "outputs": [],
   "source": []
  }
 ],
 "metadata": {
  "kernelspec": {
   "display_name": "Python 2",
   "language": "python",
   "name": "python2"
  },
  "language_info": {
   "codemirror_mode": {
    "name": "ipython",
    "version": 2
   },
   "file_extension": ".py",
   "mimetype": "text/x-python",
   "name": "python",
   "nbconvert_exporter": "python",
   "pygments_lexer": "ipython2",
   "version": "2.7.6"
  }
 },
 "nbformat": 4,
 "nbformat_minor": 0
}
