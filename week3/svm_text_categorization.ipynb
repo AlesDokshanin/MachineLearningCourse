{
 "cells": [
  {
   "cell_type": "code",
   "execution_count": 8,
   "metadata": {
    "collapsed": false,
    "scrolled": true
   },
   "outputs": [],
   "source": [
    "import pandas\n",
    "import numpy as np\n",
    "import sklearn\n",
    "from sklearn import datasets\n",
    "from sklearn.feature_extraction.text import TfidfVectorizer \n",
    "from sklearn.svm import SVC\n",
    "from sklearn.grid_search import GridSearchCV\n",
    "from sklearn.cross_validation import KFold\n",
    "\n",
    "\n",
    "newsgroup = datasets.fetch_20newsgroups(\n",
    "    subset='all', categories=['alt.atheism', 'sci.space']\n",
    ")\n",
    "\n",
    "vectorizer = TfidfVectorizer()\n",
    "X = vectorizer.fit_transform(newsgroup.data)\n",
    "y = newsgroup.target"
   ]
  },
  {
   "cell_type": "code",
   "execution_count": 9,
   "metadata": {
    "collapsed": false
   },
   "outputs": [],
   "source": [
    "grid = {'C': np.power(10.0, np.arange(-5, 6))}\n",
    "cv = KFold(y.size, n_folds=5, shuffle=True, random_state=241)\n",
    "clf = SVC(kernel='linear', random_state=241)\n",
    "gs = GridSearchCV(clf, grid, scoring='accuracy', cv=cv)\n",
    "_ = gs.fit(X, y)"
   ]
  },
  {
   "cell_type": "code",
   "execution_count": 10,
   "metadata": {
    "collapsed": true
   },
   "outputs": [],
   "source": [
    "best_C = gs.best_params_['C']\n",
    "clf = SVC(best_C, kernel='linear', random_state=241)\n",
    "clf.fit(X, y)\n",
    "coef = clf.coef_"
   ]
  },
  {
   "cell_type": "code",
   "execution_count": 32,
   "metadata": {
    "collapsed": false
   },
   "outputs": [],
   "source": [
    "import scipy.sparse\n",
    "coef = scipy.sparse.coo_matrix(clf.coef_)\n",
    "import heapq\n",
    "from itertools import izip\n",
    "heap = heapq.nlargest(10, izip(coef.col, coef.data), lambda _: abs(_[1]))\n",
    "\n",
    "features = [vectorizer.get_feature_names()[item[0]] for item in heap]"
   ]
  },
  {
   "cell_type": "code",
   "execution_count": 33,
   "metadata": {
    "collapsed": false
   },
   "outputs": [
    {
     "name": "stdout",
     "output_type": "stream",
     "text": [
      "atheism atheists bible god keith moon religion sci sky space\n"
     ]
    }
   ],
   "source": [
    "def format_features(features):\n",
    "    s = sorted([f.lower() for f in features])\n",
    "    return ' '.join(s)\n",
    "\n",
    "assignment_data = format_features(features)\n",
    "with open('assignments/2_1.txt', 'w') as f:\n",
    "    f.write(assignment_data)\n",
    "\n",
    "print assignment_data"
   ]
  }
 ],
 "metadata": {
  "kernelspec": {
   "display_name": "Python 2",
   "language": "python",
   "name": "python2"
  },
  "language_info": {
   "codemirror_mode": {
    "name": "ipython",
    "version": 2
   },
   "file_extension": ".py",
   "mimetype": "text/x-python",
   "name": "python",
   "nbconvert_exporter": "python",
   "pygments_lexer": "ipython2",
   "version": "2.7.6"
  }
 },
 "nbformat": 4,
 "nbformat_minor": 0
}
