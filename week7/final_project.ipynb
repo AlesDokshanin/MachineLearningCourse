{
 "cells": [
  {
   "cell_type": "markdown",
   "metadata": {},
   "source": [
    "## Thoughts\n",
    "\n",
    "- smoke of deceit for team could be really great feature\n",
    "- find median of kills, last hits for team, not for every hero"
   ]
  },
  {
   "cell_type": "code",
   "execution_count": null,
   "metadata": {
    "collapsed": false
   },
   "outputs": [],
   "source": [
    "%matplotlib inline\n",
    "\n",
    "from matplotlib import pyplot as plt\n",
    "import pandas\n",
    "import numpy as np\n",
    "\n",
    "data = pandas.read_csv('./features.csv', index_col='match_id')"
   ]
  },
  {
   "cell_type": "code",
   "execution_count": null,
   "metadata": {
    "collapsed": true
   },
   "outputs": [],
   "source": [
    "def filter_columns(data):\n",
    "    cols_to_remove = ['duration', 'radiant_win', 'tower_status_radiant', 'tower_status_dire',\n",
    "                      'barracks_status_radiant', 'barracks_status_dire']\n",
    "    \n",
    "    return data.drop(cols_to_remove, axis=1, inplace=False)"
   ]
  },
  {
   "cell_type": "code",
   "execution_count": null,
   "metadata": {
    "collapsed": false
   },
   "outputs": [],
   "source": [
    "def get_cols_with_missing_values(A):\n",
    "    n = A.shape[0]\n",
    "    vals = A.count().values\n",
    "    axes = A.count().axes[0]\n",
    "    \n",
    "    col_indexes = [i for i, v in enumerate(vals) if v != n]\n",
    "    res = [axes[i] for i in col_indexes]\n",
    "    return res"
   ]
  },
  {
   "cell_type": "code",
   "execution_count": null,
   "metadata": {
    "collapsed": false,
    "scrolled": true
   },
   "outputs": [],
   "source": [
    "data_gb = filter_columns(data)\n",
    "cols_with_missing_values = get_cols_with_missing_values(data_gb)\n",
    "print 'Following columns are missing some values:'\n",
    "print ', '.join(cols_with_missing_values)"
   ]
  },
  {
   "cell_type": "code",
   "execution_count": null,
   "metadata": {
    "collapsed": false
   },
   "outputs": [],
   "source": [
    "from datetime import datetime\n",
    "\n",
    "# A decorator for measuring function execution time\n",
    "def timeit(f):\n",
    "    \n",
    "    def timed(*args, **kwargs):\n",
    "        start = datetime.now()\n",
    "        res = f(*args, **kwargs)\n",
    "        delta = datetime.now() - start\n",
    "        print '{f} exec time: {t}'.format(f=f, t=delta)\n",
    "        return result\n",
    "        \n",
    "    return timed"
   ]
  },
  {
   "cell_type": "markdown",
   "metadata": {},
   "source": [
    "________\n",
    "# Approach 1: gradient boosting\n"
   ]
  },
  {
   "cell_type": "code",
   "execution_count": null,
   "metadata": {
    "collapsed": false
   },
   "outputs": [],
   "source": [
    "# Preparing data\n",
    "\n",
    "data_gb.fillna(0, inplace=True)\n",
    "X = data_gb.values\n",
    "y = data['radiant_win']"
   ]
  },
  {
   "cell_type": "code",
   "execution_count": null,
   "metadata": {
    "collapsed": false
   },
   "outputs": [],
   "source": [
    "from sklearn.cross_validation import KFold, cross_val_score\n",
    "from sklearn.ensemble import GradientBoostingClassifier\n",
    "from sklearn.grid_search import GridSearchCV\n",
    "\n",
    "fold = KFold(X.shape[0], n_folds=2, shuffle=True, random_state=1337)\n",
    "gbc = GradientBoostingClassifier(random_state=1337)\n",
    "\n",
    "grid = {'n_estimators': [350]}\n",
    "clf = GridSearchCV(estimator=gbc, param_grid=grid, scoring='accuracy', cv=fold, n_jobs=4, verbose=2)\n",
    "clf.fit(X, y)"
   ]
  },
  {
   "cell_type": "code",
   "execution_count": null,
   "metadata": {
    "collapsed": false
   },
   "outputs": [],
   "source": [
    "scores = clf.grid_scores_\n",
    "vals = [score.mean_validation_score for score in scores]\n",
    "estimators = [score.parameters['n_estimators'] for score in scores]\n",
    "\n",
    "f = plt.figure()\n",
    "plt.plot(estimators, vals, 'bo-')\n",
    "\n",
    "print vals\n",
    "print estimators"
   ]
  },
  {
   "cell_type": "code",
   "execution_count": null,
   "metadata": {
    "collapsed": true
   },
   "outputs": [],
   "source": []
  }
 ],
 "metadata": {
  "kernelspec": {
   "display_name": "Python 2",
   "language": "python",
   "name": "python2"
  },
  "language_info": {
   "codemirror_mode": {
    "name": "ipython",
    "version": 2
   },
   "file_extension": ".py",
   "mimetype": "text/x-python",
   "name": "python",
   "nbconvert_exporter": "python",
   "pygments_lexer": "ipython2",
   "version": "2.7.6"
  }
 },
 "nbformat": 4,
 "nbformat_minor": 0
}
