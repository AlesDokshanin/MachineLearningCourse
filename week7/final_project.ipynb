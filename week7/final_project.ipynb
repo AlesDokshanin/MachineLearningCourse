{
 "cells": [
  {
   "cell_type": "code",
   "execution_count": 14,
   "metadata": {
    "collapsed": false
   },
   "outputs": [],
   "source": [
    "%matplotlib inline\n",
    "\n",
    "from matplotlib import pyplot as plt\n",
    "import pandas\n",
    "import numpy as np\n",
    "\n",
    "data = pandas.read_csv('features.csv', index_col='match_id')\n",
    "y = data['radiant_win']"
   ]
  },
  {
   "cell_type": "code",
   "execution_count": 15,
   "metadata": {
    "collapsed": true
   },
   "outputs": [],
   "source": [
    "import re\n",
    "from datetime import datetime\n",
    "\n",
    "from sklearn.cross_validation import KFold\n",
    "from sklearn.grid_search import GridSearchCV\n",
    "\n",
    "def remove_future_features(data):\n",
    "    cols_to_remove = ['duration', 'radiant_win', 'tower_status_radiant', 'tower_status_dire',\n",
    "                      'barracks_status_radiant', 'barracks_status_dire']\n",
    "    \n",
    "    data.drop(cols_to_remove, axis=1, inplace=True)\n",
    "    \n",
    "def group_individual_player_features(data):\n",
    "    features_to_group = ['gold', 'lh', 'kills', 'deaths', 'items', 'level']\n",
    "\n",
    "    for feature in features_to_group:\n",
    "        for team, full_name in zip(('r', 'd'), ('radiant', 'dire')):\n",
    "            cols = ['{t}{n}_{ftr}'.format(t=team, n=i, ftr=feature) for i in xrange(1, 6)]\n",
    "            new_col_name = '{full_name}_{ftr}'.format(full_name=full_name, ftr=feature)\n",
    "            data[new_col_name] = np.mean(data[cols], axis=1)\n",
    "            \n",
    "def remove_redunant_features(data):\n",
    "    labels_to_drop = ['first_blood_player1', 'first_blood_player2', 'first_blood_time', 'start_time']\n",
    "    data.drop(labels_to_drop, axis=1, inplace=True)\n",
    "    \n",
    "def remove_individual_player_features(data):\n",
    "    # Remove individual player data (xp, lvl, gold, kills, items, deaths and lasthits)\n",
    "    expr = re.compile('^(r|d)\\d')\n",
    "    labels_to_drop = [col for col in data if expr.match(col) is not None]\n",
    "    \n",
    "    data.drop(labels_to_drop, axis=1, inplace=True)\n",
    "    \n",
    "def remove_categorial_features(data):\n",
    "    labels_to_drop = ['{t}{n}_hero'.format(t=t, n=i) for t in ('r', 'd') for i in xrange(1, 6)]\n",
    "    labels_to_drop.append('lobby_type')\n",
    "    data.drop(labels_to_drop, axis=1, inplace=True)\n",
    "    \n",
    "# A decorator for measuring function execution time\n",
    "def timeit(f):\n",
    "    \n",
    "    def timed(*args, **kwargs):\n",
    "        start = datetime.now()\n",
    "        res = f(*args, **kwargs)\n",
    "        delta = datetime.now() - start\n",
    "        print 'Function `{f.__name__}` exec time: {t}'.format(f=f, t=delta)\n",
    "        return res\n",
    "        \n",
    "    return timed\n",
    "\n",
    "def plot_scores(scores, title=None):\n",
    "    param_name = scores[0].parameters.keys()[0]\n",
    "    param_vals = [score.parameters[param_name] for score in scores]\n",
    "    vals = [score.mean_validation_score for score in scores]\n",
    "    \n",
    "    l = plt.plot(param_vals, vals, 'bo-')\n",
    "    if title is not None:\n",
    "        plt.title(title)\n",
    "    plt.xlabel(param_name)\n",
    "    plt.ylabel('ROC AUC')\n",
    "    plt.legend((l), ('cross-val score',), loc=4)"
   ]
  },
  {
   "cell_type": "code",
   "execution_count": 16,
   "metadata": {
    "collapsed": false
   },
   "outputs": [
    {
     "name": "stdout",
     "output_type": "stream",
     "text": [
      "Total unique heroes: 108\n"
     ]
    }
   ],
   "source": [
    "def get_X_pick(data):\n",
    "    heroes_labels = ['{t}{n}_hero'.format(t=t, n=n) for n in xrange(1, 6) for t in ('r', 'd')]\n",
    "    hero_ids = pandas.Series(data[heroes_labels].values.ravel()).unique()\n",
    "    \n",
    "    total_heroes = len(hero_ids)\n",
    "    print 'Total unique heroes: {}'.format(total_heroes)\n",
    "    \n",
    "    max_hero_id = hero_ids.max()\n",
    "    X_pick = np.zeros((data.shape[0], max_hero_id))\n",
    "\n",
    "    for i, match_id in enumerate(data.index):\n",
    "        for p in xrange(5):\n",
    "            X_pick[i, data.ix[match_id, 'r%d_hero' % (p+1)]-1] = 1\n",
    "            X_pick[i, data.ix[match_id, 'd%d_hero' % (p+1)]-1] = -1\n",
    "\n",
    "    return X_pick\n",
    "\n",
    "X_pick = get_X_pick(data)"
   ]
  },
  {
   "cell_type": "code",
   "execution_count": 17,
   "metadata": {
    "collapsed": false
   },
   "outputs": [],
   "source": [
    "from sklearn.linear_model import LogisticRegression\n",
    "from sklearn.preprocessing import StandardScaler\n",
    "\n",
    "@timeit\n",
    "def logistic_regression(X, y, **grid_params):\n",
    "    fold = KFold(X.shape[0], n_folds=5)\n",
    "    est = LogisticRegression(penalty='l2', random_state=1337)\n",
    "    \n",
    "    clf = GridSearchCV(est, param_grid=grid_params, cv=fold, n_jobs=4, scoring='roc_auc', verbose=0)\n",
    "    clf.fit(X, y)\n",
    "    return clf"
   ]
  },
  {
   "cell_type": "code",
   "execution_count": 18,
   "metadata": {
    "collapsed": false,
    "scrolled": true
   },
   "outputs": [
    {
     "name": "stdout",
     "output_type": "stream",
     "text": [
      "Function `logistic_regression` exec time: 0:05:43.546593\n"
     ]
    }
   ],
   "source": [
    "data_copy = data.copy()\n",
    "\n",
    "remove_future_features(data_copy)\n",
    "group_individual_player_features(data_copy)\n",
    "remove_categorial_features(data_copy)\n",
    "remove_redunant_features(data_copy)\n",
    "\n",
    "data_copy.fillna(500, inplace=True)\n",
    "\n",
    "X = StandardScaler().fit_transform(data_copy.values)\n",
    "X = np.hstack((X, X_pick))\n",
    "clf = logistic_regression(X, y, C=np.logspace(-6, 0, num=50))"
   ]
  },
  {
   "cell_type": "code",
   "execution_count": 19,
   "metadata": {
    "collapsed": false,
    "scrolled": false
   },
   "outputs": [
    {
     "data": {
      "image/png": "[encoded data removed]",
      "text/plain": [
       "<matplotlib.figure.Figure at 0x7f39f4d08b10>"
      ]
     },
     "metadata": {},
     "output_type": "display_data"
    }
   ],
   "source": [
    "scores = clf.grid_scores_\n",
    "    \n",
    "plot_scores(scores, 'LR')"
   ]
  },
  {
   "cell_type": "code",
   "execution_count": 20,
   "metadata": {
    "collapsed": false
   },
   "outputs": [
    {
     "name": "stdout",
     "output_type": "stream",
     "text": [
      "Min score: 0.70609 with C: 1e-06\n",
      "Max score: 0.75016 with C: 0.033932217719\n"
     ]
    }
   ],
   "source": [
    "means = [sc.mean_validation_score for sc in scores]\n",
    "min_index = np.argmin(means)\n",
    "max_index = np.argmax(means)\n",
    "print 'Min score: {sc:.5f} with C: {c}'.format(sc=scores[min_index].mean_validation_score, c=scores[min_index].parameters['C'])\n",
    "print 'Max score: {sc:.5f} with C: {c}'.format(sc=scores[max_index].mean_validation_score, c=scores[max_index].parameters['C'])"
   ]
  },
  {
   "cell_type": "raw",
   "metadata": {},
   "source": [
    "Max score: 0.75015 with C: 0.0263665089873"
   ]
  },
  {
   "cell_type": "markdown",
   "metadata": {
    "collapsed": true
   },
   "source": [
    "______\n",
    "# Making predictions for test data"
   ]
  },
  {
   "cell_type": "code",
   "execution_count": 21,
   "metadata": {
    "collapsed": false
   },
   "outputs": [
    {
     "name": "stdout",
     "output_type": "stream",
     "text": [
      "Total unique heroes: 108\n"
     ]
    }
   ],
   "source": [
    "test_data = pandas.read_csv('features_test.csv', index_col='match_id')\n",
    "\n",
    "X_pick_test = get_X_pick(test_data)\n",
    "\n",
    "group_individual_player_features(test_data)\n",
    "remove_categorial_features(test_data)\n",
    "remove_redunant_features(test_data)\n",
    "\n",
    "test_data.fillna(500, inplace=True)\n",
    "X_test = StandardScaler().fit_transform(test_data.values)\n",
    "X_test = np.hstack((X_test, X_pick_test))"
   ]
  },
  {
   "cell_type": "code",
   "execution_count": 22,
   "metadata": {
    "collapsed": false
   },
   "outputs": [],
   "source": [
    "prob = clf.best_estimator_.predict_proba(X_test)[:, 1]"
   ]
  },
  {
   "cell_type": "code",
   "execution_count": 23,
   "metadata": {
    "collapsed": false
   },
   "outputs": [
    {
     "name": "stdout",
     "output_type": "stream",
     "text": [
      "Min probability for match 33469: 0.0081\n",
      "Max probability for match 14176: 0.9966\n"
     ]
    }
   ],
   "source": [
    "min_i = np.argmin(prob)\n",
    "max_i = np.argmax(prob)\n",
    "\n",
    "print 'Min probability for match {match_id}: {prob:.4f}'.format(match_id=test_data.index[min_i], prob=prob[min_i])\n",
    "print 'Max probability for match {match_id}: {prob:.4f}'.format(match_id=test_data.index[max_i], prob=prob[max_i])"
   ]
  },
  {
   "cell_type": "code",
   "execution_count": 24,
   "metadata": {
    "collapsed": false
   },
   "outputs": [
    {
     "data": {
      "text/html": [
       "<div>\n",
       "<table border=\"1\" class=\"dataframe\">\n",
       "  <thead>\n",
       "    <tr style=\"text-align: right;\">\n",
       "      <th></th>\n",
       "      <th>radiant_win</th>\n",
       "    </tr>\n",
       "    <tr>\n",
       "      <th>match_id</th>\n",
       "      <th></th>\n",
       "    </tr>\n",
       "  </thead>\n",
       "  <tbody>\n",
       "    <tr>\n",
       "      <th>6</th>\n",
       "      <td>0.834697</td>\n",
       "    </tr>\n",
       "    <tr>\n",
       "      <th>7</th>\n",
       "      <td>0.766120</td>\n",
       "    </tr>\n",
       "    <tr>\n",
       "      <th>10</th>\n",
       "      <td>0.203755</td>\n",
       "    </tr>\n",
       "    <tr>\n",
       "      <th>13</th>\n",
       "      <td>0.875732</td>\n",
       "    </tr>\n",
       "    <tr>\n",
       "      <th>16</th>\n",
       "      <td>0.251208</td>\n",
       "    </tr>\n",
       "  </tbody>\n",
       "</table>\n",
       "</div>"
      ],
      "text/plain": [
       "          radiant_win\n",
       "match_id             \n",
       "6            0.834697\n",
       "7            0.766120\n",
       "10           0.203755\n",
       "13           0.875732\n",
       "16           0.251208"
      ]
     },
     "execution_count": 24,
     "metadata": {},
     "output_type": "execute_result"
    }
   ],
   "source": [
    "df = pandas.DataFrame({\n",
    "        'match_id': test_data.index,\n",
    "        'radiant_win': prob\n",
    "    })\n",
    "df.set_index('match_id', inplace=True)\n",
    "\n",
    "with open('test_predictions.csv', 'w') as f:\n",
    "    df.to_csv(f)\n",
    "    \n",
    "df.head()"
   ]
  },
  {
   "cell_type": "code",
   "execution_count": 25,
   "metadata": {
    "collapsed": false
   },
   "outputs": [
    {
     "data": {
      "text/plain": [
       "radiant_win    0.220827\n",
       "dtype: float64"
      ]
     },
     "execution_count": 25,
     "metadata": {},
     "output_type": "execute_result"
    }
   ],
   "source": [
    "df.std()"
   ]
  },
  {
   "cell_type": "code",
   "execution_count": 26,
   "metadata": {
    "collapsed": false
   },
   "outputs": [
    {
     "name": "stdout",
     "output_type": "stream",
     "text": [
      "r1_level\n",
      "r1_xp\n",
      "r1_gold\n",
      "r1_lh\n",
      "r1_kills\n",
      "r1_deaths\n",
      "r1_items\n",
      "r2_level\n",
      "r2_xp\n",
      "r2_gold\n",
      "r2_lh\n",
      "r2_kills\n",
      "r2_deaths\n",
      "r2_items\n",
      "r3_level\n",
      "r3_xp\n",
      "r3_gold\n",
      "r3_lh\n",
      "r3_kills\n",
      "r3_deaths\n",
      "r3_items\n",
      "r4_level\n",
      "r4_xp\n",
      "r4_gold\n",
      "r4_lh\n",
      "r4_kills\n",
      "r4_deaths\n",
      "r4_items\n",
      "r5_level\n",
      "r5_xp\n",
      "r5_gold\n",
      "r5_lh\n",
      "r5_kills\n",
      "r5_deaths\n",
      "r5_items\n",
      "d1_level\n",
      "d1_xp\n",
      "d1_gold\n",
      "d1_lh\n",
      "d1_kills\n",
      "d1_deaths\n",
      "d1_items\n",
      "d2_level\n",
      "d2_xp\n",
      "d2_gold\n",
      "d2_lh\n",
      "d2_kills\n",
      "d2_deaths\n",
      "d2_items\n",
      "d3_level\n",
      "d3_xp\n",
      "d3_gold\n",
      "d3_lh\n",
      "d3_kills\n",
      "d3_deaths\n",
      "d3_items\n",
      "d4_level\n",
      "d4_xp\n",
      "d4_gold\n",
      "d4_lh\n",
      "d4_kills\n",
      "d4_deaths\n",
      "d4_items\n",
      "d5_level\n",
      "d5_xp\n",
      "d5_gold\n",
      "d5_lh\n",
      "d5_kills\n",
      "d5_deaths\n",
      "d5_items\n",
      "first_blood_team\n",
      "radiant_bottle_time\n",
      "radiant_courier_time\n",
      "radiant_flying_courier_time\n",
      "radiant_tpscroll_count\n",
      "radiant_boots_count\n",
      "radiant_ward_observer_count\n",
      "radiant_ward_sentry_count\n",
      "radiant_first_ward_time\n",
      "dire_bottle_time\n",
      "dire_courier_time\n",
      "dire_flying_courier_time\n",
      "dire_tpscroll_count\n",
      "dire_boots_count\n",
      "dire_ward_observer_count\n",
      "dire_ward_sentry_count\n",
      "dire_first_ward_time\n",
      "radiant_gold\n",
      "dire_gold\n",
      "radiant_lh\n",
      "dire_lh\n",
      "radiant_kills\n",
      "dire_kills\n",
      "radiant_deaths\n",
      "dire_deaths\n",
      "radiant_items\n",
      "dire_items\n",
      "radiant_level\n",
      "dire_level\n"
     ]
    }
   ],
   "source": [
    "for col in data_copy:\n",
    "    print col"
   ]
  }
 ],
 "metadata": {
  "kernelspec": {
   "display_name": "Python 2",
   "language": "python",
   "name": "python2"
  },
  "language_info": {
   "codemirror_mode": {
    "name": "ipython",
    "version": 2
   },
   "file_extension": ".py",
   "mimetype": "text/x-python",
   "name": "python",
   "nbconvert_exporter": "python",
   "pygments_lexer": "ipython2",
   "version": "2.7.6"
  }
 },
 "nbformat": 4,
 "nbformat_minor": 0
}
