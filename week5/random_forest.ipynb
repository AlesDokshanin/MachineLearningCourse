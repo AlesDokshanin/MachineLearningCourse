{
 "cells": [
  {
   "cell_type": "code",
   "execution_count": 29,
   "metadata": {
    "collapsed": true
   },
   "outputs": [],
   "source": [
    "import pandas\n",
    "import numpy as np\n",
    "\n",
    "data = pandas.read_csv('abalone.csv')"
   ]
  },
  {
   "cell_type": "code",
   "execution_count": 30,
   "metadata": {
    "collapsed": false
   },
   "outputs": [],
   "source": [
    "data.Sex = data.Sex.map(lambda x: 1 if x == 'M' else (-1 if x == 'F' else 0))\n",
    "\n",
    "y = data.Rings\n",
    "X = data.copy()\n",
    "del X['Rings']"
   ]
  },
  {
   "cell_type": "code",
   "execution_count": 31,
   "metadata": {
    "collapsed": false,
    "scrolled": true
   },
   "outputs": [],
   "source": [
    "from sklearn.ensemble import RandomForestRegressor\n",
    "from sklearn.cross_validation import KFold\n",
    "from sklearn.grid_search import GridSearchCV\n",
    "\n",
    "kfold = KFold(len(y), n_folds=5, shuffle=True, random_state=1)\n",
    "clf = RandomForestRegressor(random_state=1)\n",
    "n_trees = np.linspace(1, 50, dtype=int)\n",
    "grid = dict(n_estimators=n_trees)\n",
    "gs = GridSearchCV(clf, grid, cv=kfold, n_jobs=3, scoring='r2')\n",
    "_ = gs.fit(X, y)"
   ]
  },
  {
   "cell_type": "code",
   "execution_count": 32,
   "metadata": {
    "collapsed": false
   },
   "outputs": [
    {
     "name": "stdout",
     "output_type": "stream",
     "text": [
      "22\n"
     ]
    }
   ],
   "source": [
    "bound = 0.52\n",
    "\n",
    "n_trees = None\n",
    "for score in gs.grid_scores_:\n",
    "    if score.mean_validation_score > bound:\n",
    "        n_trees = score.parameters['n_estimators']\n",
    "        break\n",
    "        \n",
    "assignment_data = '{}'.format(n_trees)\n",
    "with open('assignments/1_1.txt', 'w') as f:\n",
    "    f.write(str(n_trees))\n",
    "\n",
    "print n_trees"
   ]
  },
  {
   "cell_type": "code",
   "execution_count": null,
   "metadata": {
    "collapsed": true
   },
   "outputs": [],
   "source": []
  }
 ],
 "metadata": {
  "kernelspec": {
   "display_name": "Python 2",
   "language": "python",
   "name": "python2"
  },
  "language_info": {
   "codemirror_mode": {
    "name": "ipython",
    "version": 2
   },
   "file_extension": ".py",
   "mimetype": "text/x-python",
   "name": "python",
   "nbconvert_exporter": "python",
   "pygments_lexer": "ipython2",
   "version": "2.7.6"
  }
 },
 "nbformat": 4,
 "nbformat_minor": 0
}
