{
 "cells": [
  {
   "cell_type": "code",
   "execution_count": 19,
   "metadata": {
    "collapsed": true
   },
   "outputs": [],
   "source": [
    "%matplotlib inline\n",
    "\n",
    "import matplotlib\n",
    "import pandas \n",
    "import numpy as np\n",
    "\n",
    "data = pandas.read_csv('salary-train.csv')\n",
    "data_test = pandas.read_csv('salary-test-mini.csv')\n",
    "y = data.SalaryNormalized"
   ]
  },
  {
   "cell_type": "code",
   "execution_count": 20,
   "metadata": {
    "collapsed": false
   },
   "outputs": [
    {
     "name": "stdout",
     "output_type": "stream",
     "text": [
      "                                     FullDescription LocationNormalized  \\\n",
      "0  International Sales Manager London ****k  ****...             London   \n",
      "1  An ideal opportunity for an individual that ha...             London   \n",
      "2  Online Content and Brand Manager// Luxury Reta...  South East London   \n",
      "3  A great local marketleader is seeking a perman...            Dereham   \n",
      "4  Registered Nurse / RGN  Nursing Home for Young...   Sutton Coldfield   \n",
      "\n",
      "  ContractTime  SalaryNormalized  \n",
      "0    permanent             33000  \n",
      "1    permanent             50000  \n",
      "2    permanent             40000  \n",
      "3    permanent             22500  \n",
      "4          NaN             20355  \n"
     ]
    }
   ],
   "source": [
    "print data.head()"
   ]
  },
  {
   "cell_type": "code",
   "execution_count": 21,
   "metadata": {
    "collapsed": false
   },
   "outputs": [],
   "source": [
    "from sklearn.feature_extraction import DictVectorizer\n",
    "from sklearn.feature_extraction.text import TfidfVectorizer\n",
    "from scipy.sparse import hstack\n",
    "\n",
    "def normalize_description(vrzr, desc, train=False):\n",
    "    desc = desc.str.lower()\n",
    "    desc = desc.replace('[^a-zA-Z0-9]', ' ', regex=True)\n",
    "    \n",
    "    if train:\n",
    "        desc = vrzr.fit_transform(desc)\n",
    "    else:\n",
    "        desc = vrzr.transform(desc)\n",
    "    return desc\n",
    "\n",
    "def normalize_loc_time(vrzr, data, train=False):\n",
    "    data['LocationNormalized'].fillna('nan', inplace=True)\n",
    "    data['ContractTime'].fillna('nan', inplace=True)\n",
    "    \n",
    "    if train:\n",
    "        res = enc.fit_transform(data[['LocationNormalized', 'ContractTime']].to_dict('records'))\n",
    "    else:\n",
    "        res = enc.transform(data[['LocationNormalized', 'ContractTime']].to_dict('records'))\n",
    "    return res\n",
    "    \n",
    "vrzr = TfidfVectorizer()\n",
    "train_desc = normalize_description(vrzr, data.FullDescription, train=True)\n",
    "test_desc = normalize_description(vrzr, data_test.FullDescription)\n",
    "\n",
    "enc = DictVectorizer()\n",
    "train_categ = normalize_loc_time(enc, data, train=True)\n",
    "test_categ = normalize_loc_time(enc, data_test)\n",
    "\n",
    "X_train = hstack([train_desc, train_categ])\n",
    "X_test = hstack([test_desc, test_categ])"
   ]
  },
  {
   "cell_type": "code",
   "execution_count": 22,
   "metadata": {
    "collapsed": false
   },
   "outputs": [],
   "source": [
    "from sklearn.linear_model import Ridge\n",
    "clf = Ridge(alpha=1.0)\n",
    "clf.fit(X_train, y)\n",
    "res = clf.predict(X_test)"
   ]
  },
  {
   "cell_type": "code",
   "execution_count": 23,
   "metadata": {
    "collapsed": false
   },
   "outputs": [
    {
     "name": "stdout",
     "output_type": "stream",
     "text": [
      "56957.88 37502.08\n"
     ]
    }
   ],
   "source": [
    "assignment_data = ' '.join(['{:.2f}'.format(x) for x in res])\n",
    "with open('assignments/1_1.txt', 'w') as f:\n",
    "    f.write(assignment_data)\n",
    "\n",
    "print assignment_data"
   ]
  },
  {
   "cell_type": "code",
   "execution_count": null,
   "metadata": {
    "collapsed": true
   },
   "outputs": [],
   "source": []
  }
 ],
 "metadata": {
  "kernelspec": {
   "display_name": "Python 2",
   "language": "python",
   "name": "python2"
  },
  "language_info": {
   "codemirror_mode": {
    "name": "ipython",
    "version": 2
   },
   "file_extension": ".py",
   "mimetype": "text/x-python",
   "name": "python",
   "nbconvert_exporter": "python",
   "pygments_lexer": "ipython2",
   "version": "2.7.6"
  }
 },
 "nbformat": 4,
 "nbformat_minor": 0
}
