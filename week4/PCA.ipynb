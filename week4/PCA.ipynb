{
 "cells": [
  {
   "cell_type": "code",
   "execution_count": 196,
   "metadata": {
    "collapsed": false
   },
   "outputs": [],
   "source": [
    "import pandas\n",
    "import numpy as np\n",
    "import scipy as sc\n",
    "\n",
    "prices_data = pandas.read_csv('close_prices.csv')"
   ]
  },
  {
   "cell_type": "code",
   "execution_count": 197,
   "metadata": {
    "collapsed": false,
    "scrolled": false
   },
   "outputs": [
    {
     "name": "stdout",
     "output_type": "stream",
     "text": [
      "         AXP          BA        CAT   CSCO         CVX         DD    DIS  \\\n",
      "0  76.440002  117.510002  85.029999  24.27  125.519997  59.409999  64.75   \n",
      "\n",
      "          GE      GS         HD  ...          PFE         PG          T  \\\n",
      "0  24.280001  165.25  75.910004  ...    28.799999  79.279999  34.220001   \n",
      "\n",
      "         TRV    UNH         UTX           V     VZ        WMT    XOM  \n",
      "0  86.379997  71.82  109.419998  196.240005  47.98  76.419998  87.75  \n",
      "\n",
      "[1 rows x 30 columns]\n"
     ]
    }
   ],
   "source": [
    "del prices_data['date']\n",
    "company_names = prices_data.columns\n",
    "print prices_data.head(1)"
   ]
  },
  {
   "cell_type": "code",
   "execution_count": 198,
   "metadata": {
    "collapsed": false
   },
   "outputs": [
    {
     "data": {
      "text/plain": [
       "PCA(copy=True, n_components=10, whiten=False)"
      ]
     },
     "execution_count": 198,
     "metadata": {},
     "output_type": "execute_result"
    }
   ],
   "source": [
    "from sklearn.decomposition import PCA\n",
    "\n",
    "pca = PCA(n_components=10)\n",
    "X_new = pca.fit_transform(prices_data)\n",
    "pca.fit(prices_data)"
   ]
  },
  {
   "cell_type": "code",
   "execution_count": 199,
   "metadata": {
    "collapsed": false
   },
   "outputs": [
    {
     "name": "stdout",
     "output_type": "stream",
     "text": [
      "4\n"
     ]
    }
   ],
   "source": [
    "evr = pca.explained_variance_ratio_\n",
    "s = 0\n",
    "bound = 0.9\n",
    "n_components = None\n",
    "\n",
    "for i, val in enumerate(evr, start=1):\n",
    "    s += val\n",
    "    if s >= bound:\n",
    "        n_components = i\n",
    "        break\n",
    "\n",
    "with open('assignments/2_1.txt', 'w') as f:\n",
    "    f.write(str(n_components))\n",
    "    \n",
    "print n_components"
   ]
  },
  {
   "cell_type": "code",
   "execution_count": 200,
   "metadata": {
    "collapsed": false
   },
   "outputs": [
    {
     "name": "stdout",
     "output_type": "stream",
     "text": [
      "0.91\n"
     ]
    }
   ],
   "source": [
    "first = X_new[:, :1]\n",
    "djia_data = pandas.read_csv('djia_index.csv').as_matrix()[:, 1:]\n",
    "M = np.hstack((first, dji_data))\n",
    "corr = sc.stats.pearsonr(first, dji_data)[0][0]\n",
    "\n",
    "assignment_data = '{:.2f}'.format(corr)\n",
    "with open('assignments/2_2.txt', 'w') as f:\n",
    "    f.write(assignment_data)\n",
    "    \n",
    "print assignment_data"
   ]
  },
  {
   "cell_type": "code",
   "execution_count": 201,
   "metadata": {
    "collapsed": false
   },
   "outputs": [
    {
     "name": "stdout",
     "output_type": "stream",
     "text": [
      "V\n"
     ]
    }
   ],
   "source": [
    "fist_component_value = pca.components_[0]\n",
    "most_valueable_company = company_names[np.argmax(fist_component_value)]\n",
    "\n",
    "with open('assignments/2_3.txt', 'w') as f:\n",
    "    f.write(most_valueable_company)\n",
    "\n",
    "print most_valueable_company"
   ]
  }
 ],
 "metadata": {
  "kernelspec": {
   "display_name": "Python 2",
   "language": "python",
   "name": "python2"
  },
  "language_info": {
   "codemirror_mode": {
    "name": "ipython",
    "version": 2
   },
   "file_extension": ".py",
   "mimetype": "text/x-python",
   "name": "python",
   "nbconvert_exporter": "python",
   "pygments_lexer": "ipython2",
   "version": "2.7.6"
  }
 },
 "nbformat": 4,
 "nbformat_minor": 0
}
