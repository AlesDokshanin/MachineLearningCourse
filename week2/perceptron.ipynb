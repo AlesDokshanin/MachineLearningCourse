{
 "cells": [
  {
   "cell_type": "code",
   "execution_count": 64,
   "metadata": {
    "collapsed": true
   },
   "outputs": [],
   "source": [
    "%matplotlib inline\n",
    "\n",
    "import matplotlib\n",
    "import matplotlib.pyplot as plt\n",
    "import numpy as np\n",
    "import scipy as sc\n",
    "import pandas\n",
    "import sklearn\n",
    "from sklearn.linear_model import Perceptron\n",
    "from sklearn.metrics import accuracy_score\n",
    "from sklearn.preprocessing import StandardScaler\n",
    "\n",
    "train_data = pandas.read_csv('perceptron-train.csv', header=None)\n",
    "test_data = pandas.read_csv('perceptron-test.csv', header=None)"
   ]
  },
  {
   "cell_type": "code",
   "execution_count": 65,
   "metadata": {
    "collapsed": true
   },
   "outputs": [],
   "source": [
    "X_train = train_data.as_matrix([1, 2])\n",
    "X_test = test_data.as_matrix([1, 2])\n",
    "\n",
    "y_train = np.ravel(train_data.as_matrix([0]))\n",
    "y_test = np.ravel(test_data.as_matrix([0]))"
   ]
  },
  {
   "cell_type": "code",
   "execution_count": 66,
   "metadata": {
    "collapsed": false
   },
   "outputs": [],
   "source": [
    "def calculate_score(X_train, y_train, X_test, y_test):\n",
    "    clf = Perceptron(random_state=241)\n",
    "    clf.fit(X_train, y_train)\n",
    "    res = clf.predict(X_test)\n",
    "    score = accuracy_score(y_test, res)\n",
    "    return score\n"
   ]
  },
  {
   "cell_type": "code",
   "execution_count": 67,
   "metadata": {
    "collapsed": false
   },
   "outputs": [
    {
     "name": "stdout",
     "output_type": "stream",
     "text": [
      "Raw data: 0.36, scaled data: 0.92\n",
      "Difference: 0.56\n"
     ]
    }
   ],
   "source": [
    "# Without scaling\n",
    "\n",
    "score_without_scaling = calculate_score(X_train, y_train, X_test, y_test)\n",
    "\n",
    "# Scaling data\n",
    "scaler = StandardScaler()\n",
    "X_train = scaler.fit_transform(X_train)\n",
    "X_test = scaler.fit_transform(X_test)\n",
    "\n",
    "score_with_scaling = calculate_score(X_train, y_train, X_test, y_test)\n",
    "\n",
    "print 'Raw data: {raw:.2f}, scaled data: {scaled:.2f}'.format(raw=score_without_scaling,\n",
    "                                                     scaled=score_with_scaling)\n",
    "print 'Difference: {:.2f}'.format(score_with_scaling - score_without_scaling)"
   ]
  },
  {
   "cell_type": "code",
   "execution_count": null,
   "metadata": {
    "collapsed": true
   },
   "outputs": [],
   "source": []
  }
 ],
 "metadata": {
  "kernelspec": {
   "display_name": "Python 2",
   "language": "python",
   "name": "python2"
  },
  "language_info": {
   "codemirror_mode": {
    "name": "ipython",
    "version": 2
   },
   "file_extension": ".py",
   "mimetype": "text/x-python",
   "name": "python",
   "nbconvert_exporter": "python",
   "pygments_lexer": "ipython2",
   "version": "2.7.6"
  }
 },
 "nbformat": 4,
 "nbformat_minor": 0
}
