{
 "cells": [
  {
   "cell_type": "code",
   "execution_count": 1,
   "metadata": {
    "collapsed": false
   },
   "outputs": [],
   "source": [
    "import numpy as np\n",
    "import scipy as sc\n",
    "import pandas\n",
    "import sklearn\n",
    "from sklearn.neighbors import KNeighborsRegressor\n",
    "from sklearn import datasets\n",
    "from sklearn import cross_validation\n",
    "\n",
    "data = datasets.load_boston()\n",
    "X = sklearn.preprocessing.scale(data.data)\n",
    "y = data.target"
   ]
  },
  {
   "cell_type": "code",
   "execution_count": 4,
   "metadata": {
    "collapsed": false
   },
   "outputs": [
    {
     "name": "stdout",
     "output_type": "stream",
     "text": [
      "1.00: -16.05\n",
      "1.09: -16.37\n",
      "1.05: -16.40\n",
      "1.14: -16.44\n",
      "1.18: -16.46\n",
      "1.23: -16.51\n",
      "1.27: -16.62\n",
      "1.59: -16.79\n",
      "1.32: -16.80\n",
      "1.36: -16.84\n",
      "1.50: -16.95\n",
      "1.63: -16.97\n",
      "1.68: -17.01\n",
      "1.54: -17.09\n",
      "1.41: -17.09\n"
     ]
    }
   ],
   "source": [
    "p_values = np.linspace(1, 10, num=200)\n",
    "kfold = cross_validation.KFold(\n",
    "    n=len(X), n_folds=5, shuffle=True, random_state=42)\n",
    "\n",
    "res = []\n",
    "for p in p_values:\n",
    "    knr = KNeighborsRegressor(n_neighbors=5, weights='distance', p=p)\n",
    "    scores = cross_validation.cross_val_score(knr, X, y,\n",
    "                scoring='mean_squared_error', cv=kfold)\n",
    "    score = scores.mean()\n",
    "    res.append((p, score,))\n",
    "    \n",
    "def res_sorter(res): return res[1]\n",
    "\n",
    "sorted_results = sorted(res, key=res_sorter, reverse=True)[:15]\n",
    "for p, res in sorted_results:\n",
    "    print '{p:.2f}: {res:.2f}'.format(p=p, res=res)\n"
   ]
  },
  {
   "cell_type": "code",
   "execution_count": null,
   "metadata": {
    "collapsed": true
   },
   "outputs": [],
   "source": []
  }
 ],
 "metadata": {
  "kernelspec": {
   "display_name": "Python 2",
   "language": "python",
   "name": "python2"
  },
  "language_info": {
   "codemirror_mode": {
    "name": "ipython",
    "version": 2
   },
   "file_extension": ".py",
   "mimetype": "text/x-python",
   "name": "python",
   "nbconvert_exporter": "python",
   "pygments_lexer": "ipython2",
   "version": "2.7.6"
  }
 },
 "nbformat": 4,
 "nbformat_minor": 0
}
