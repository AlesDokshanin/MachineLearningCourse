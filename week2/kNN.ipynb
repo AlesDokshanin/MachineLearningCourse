{
 "cells": [
  {
   "cell_type": "code",
   "execution_count": 239,
   "metadata": {
    "collapsed": false
   },
   "outputs": [],
   "source": [
    "import numpy as np\n",
    "import scipy as sc\n",
    "import pandas\n",
    "import sklearn\n",
    "from sklearn.cross_validation import KFold, cross_val_score\n",
    "from sklearn.neighbors import KNeighborsClassifier\n",
    "from sklearn.preprocessing import scale\n",
    "\n",
    "data = pandas.read_csv('wine.data', header=None)\n",
    "\n",
    "n_items = len(data)\n",
    "X = data.as_matrix(range(1, 14))\n",
    "y = np.ravel(data.as_matrix([0]))"
   ]
  },
  {
   "cell_type": "code",
   "execution_count": 240,
   "metadata": {
    "collapsed": false
   },
   "outputs": [
    {
     "name": "stdout",
     "output_type": "stream",
     "text": [
      "Results before scaling\n",
      "1: 0.730476190476\n",
      "34: 0.724603174603\n",
      "35: 0.724603174603\n",
      "48: 0.719047619048\n",
      "36: 0.713492063492\n",
      "\n",
      "\n",
      "Results after scaling\n",
      "29: 0.977619047619\n",
      "15: 0.972063492063\n",
      "16: 0.972063492063\n",
      "17: 0.966507936508\n",
      "18: 0.966507936508\n"
     ]
    }
   ],
   "source": [
    "fold = KFold(n_items, n_folds=5, shuffle=True, random_state=42)\n",
    "\n",
    "def get_scores(X, y):\n",
    "    n_neighbors_range = range(1, 50 + 1)\n",
    "    \n",
    "    res = []\n",
    "    for n_neighbors in n_neighbors_range:\n",
    "        clf = KNeighborsClassifier(n_neighbors=n_neighbors)\n",
    "        scores = cross_val_score(clf, X, y, cv=fold, scoring='accuracy')\n",
    "        res.append((n_neighbors, scores.mean(),))\n",
    "        \n",
    "    return res\n",
    "\n",
    "def score_sorter(x): return x[1]\n",
    "\n",
    "def print_scores(l):\n",
    "    for n, score in l:\n",
    "        print '{n}: {score}'.format(n=n, score=score)\n",
    "        \n",
    "unscaled_top = sorted(get_scores(X, y), key=score_sorter, reverse=True)[:5]\n",
    "print 'Results before scaling'\n",
    "print_scores(unscaled_top)\n",
    "print '\\n'\n",
    "\n",
    "X = scale(X)\n",
    "scaled_top = sorted(get_scores(X, y), key=score_sorter, reverse=True)[:5]\n",
    "print 'Results after scaling'\n",
    "print_scores(scaled_top)"
   ]
  },
  {
   "cell_type": "code",
   "execution_count": null,
   "metadata": {
    "collapsed": false
   },
   "outputs": [],
   "source": []
  }
 ],
 "metadata": {
  "kernelspec": {
   "display_name": "Python 2",
   "language": "python",
   "name": "python2"
  },
  "language_info": {
   "codemirror_mode": {
    "name": "ipython",
    "version": 2
   },
   "file_extension": ".py",
   "mimetype": "text/x-python",
   "name": "python",
   "nbconvert_exporter": "python",
   "pygments_lexer": "ipython2",
   "version": "2.7.6"
  }
 },
 "nbformat": 4,
 "nbformat_minor": 0
}
